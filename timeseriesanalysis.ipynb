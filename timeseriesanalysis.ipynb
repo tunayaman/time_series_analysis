{
 "cells": [
  {
   "cell_type": "code",
   "execution_count": null,
   "id": "ac1c15c5-d36b-4d6c-9d28-c0b003b6a3b1",
   "metadata": {},
   "outputs": [],
   "source": [
    "import numpy as np\n",
    "import matplotlib.pyplot as plt\n",
    "import pandas as pd"
   ]
  },
  {
   "cell_type": "markdown",
   "id": "9f3381b5-427d-4899-a359-a589597cf56c",
   "metadata": {},
   "source": [
    "### Generating time series data (e.g., monthly sales data"
   ]
  },
  {
   "cell_type": "code",
   "execution_count": null,
   "id": "9c28281c-6e32-40bf-9d36-a0e43686f764",
   "metadata": {},
   "outputs": [],
   "source": [
    "np.random.seed(42)\n",
    "months = np.arange(1, 101)  # Months from 1 to 100\n",
    "sales = 50 + 3 * months + np.random.normal(0, 10, 100)  # Linear growth + random noise"
   ]
  },
  {
   "cell_type": "markdown",
   "id": "c08be1a0-6f64-4595-805c-f3ead5f537b8",
   "metadata": {},
   "source": [
    "### Converting data to a DataFrame"
   ]
  },
  {
   "cell_type": "code",
   "execution_count": null,
   "id": "d267c828-0fe4-4e5d-a623-f6529cfc1bba",
   "metadata": {},
   "outputs": [],
   "source": [
    "data = pd.DataFrame({'Month': months, 'Sales': sales})"
   ]
  },
  {
   "cell_type": "markdown",
   "id": "2737c82c-3217-4199-ab49-2acc6d0362ca",
   "metadata": {},
   "source": [
    "### Basic Statistical Calculations"
   ]
  },
  {
   "cell_type": "code",
   "execution_count": null,
   "id": "3cc21f2a-cea8-4cdd-89ec-6a65ab3bd391",
   "metadata": {},
   "outputs": [],
   "source": [
    "mean_sales = np.mean(sales)\n",
    "median_sales = np.median(sales)\n",
    "std_dev_sales = np.std(sales)\n",
    "min_sales = np.min(sales)\n",
    "max_sales = np.max(sales)"
   ]
  },
  {
   "cell_type": "markdown",
   "id": "f43fd6b8-8bd4-4182-8785-24dff19f2d23",
   "metadata": {},
   "source": [
    "### Printing statistical data"
   ]
  },
  {
   "cell_type": "code",
   "execution_count": null,
   "id": "d2bd83a8-06e3-4711-b5d5-0eafccb396d0",
   "metadata": {},
   "outputs": [],
   "source": [
    "print(f\"Mean Sales: {mean_sales:.2f}\")\n",
    "print(f\"Median Sales: {median_sales:.2f}\")\n",
    "print(f\"Standard Deviation: {std_dev_sales:.2f}\")\n",
    "print(f\"Min Sales: {min_sales:.2f}\")\n",
    "print(f\"Max Sales: {max_sales:.2f}\")"
   ]
  },
  {
   "cell_type": "markdown",
   "id": "c4c1a8d9-4fc9-44b2-8ade-75948a94126b",
   "metadata": {},
   "source": [
    "### Visualizing the data"
   ]
  },
  {
   "cell_type": "code",
   "execution_count": null,
   "id": "d49cbd64-2dfe-4c79-b9f0-de6628c6ae6b",
   "metadata": {},
   "outputs": [],
   "source": [
    "plt.figure(figsize=(10, 6))\n",
    "plt.plot(data['Month'], data['Sales'], label='Sales Data', color='blue')\n",
    "plt.title('Time Series Data (Monthly Sales)', fontsize=14)\n",
    "plt.xlabel('Months', fontsize=12)\n",
    "plt.ylabel('Sales', fontsize=12)\n",
    "plt.grid(True)\n",
    "plt.legend()\n",
    "plt.show()"
   ]
  },
  {
   "cell_type": "markdown",
   "id": "52b2d8d4-9f5c-4fca-9ac0-76624613f532",
   "metadata": {},
   "source": [
    "### Visualizing the distribution of the sales"
   ]
  }
 ],
 "metadata": {
  "kernelspec": {
   "display_name": "Python 3 (ipykernel)",
   "language": "python",
   "name": "python3"
  },
  "language_info": {
   "codemirror_mode": {
    "name": "ipython",
    "version": 3
   },
   "file_extension": ".py",
   "mimetype": "text/x-python",
   "name": "python",
   "nbconvert_exporter": "python",
   "pygments_lexer": "ipython3",
   "version": "3.13.1"
  }
 },
 "nbformat": 4,
 "nbformat_minor": 5
}
